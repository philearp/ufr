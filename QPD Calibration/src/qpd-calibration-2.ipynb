{
 "cells": [
  {
   "cell_type": "code",
   "execution_count": null,
   "metadata": {},
   "outputs": [],
   "source": [
    "import pandas as pd\n",
    "import numpy as np\n",
    "from scipy import interpolate\n",
    "from scipy.optimize import fsolve\n",
    "import plotly.graph_objects as go\n",
    "import plotly.express as px"
   ]
  },
  {
   "cell_type": "markdown",
   "execution_count": null,
   "metadata": {},
   "outputs": [],
   "source": [
    "## Loading Data"
   ]
  },
  {
   "cell_type": "code",
   "execution_count": null,
   "metadata": {},
   "outputs": [],
   "source": [
    "filename = '../data/2020-03-10_QPD-Tilt-Calibration_Test1.csv'\n",
    "col_names = ['theta_x', 'theta_y', 'qpd_x', 'qpd_y', 'qpd_sum']\n",
    "df = pd.read_csv(filename, names=col_names)"
   ]
  },
  {
   "cell_type": "markdown",
   "execution_count": null,
   "metadata": {},
   "outputs": [],
   "source": [
    "### Check Data Validity"
   ]
  },
  {
   "cell_type": "code",
   "execution_count": null,
   "metadata": {},
   "outputs": [],
   "source": [
    "df.head()"
   ]
  },
  {
   "cell_type": "markdown",
   "execution_count": null,
   "metadata": {},
   "outputs": [],
   "source": [
    "## Surface Fitting\n",
    "Fit 2D Functions of form $q_x=f(\\theta_x, \\theta_y)$ and $q_y=f(\\theta_x, \\theta_y)$\n",
    "\n",
    "e.g. using 3rd order polynomials:\n",
    "\n",
    "$q_x = a_1.\\theta_x^3 + a_2.\\theta_y^3 + a_3.\\theta_x^2 + a_4.\\theta_y^2 + a_5.\\theta_x + a_6.\\theta_y + a_7$\n",
    "\n",
    "$q_y = b_1.\\theta_x^3 + b_2.\\theta_y^3 + b_3.\\theta_x^2 + b_4.\\theta_y^2 + b_5.\\theta_x + b_6.\\theta_y + b_7$"
   ]
  },
  {
   "cell_type": "code",
   "execution_count": null,
   "metadata": {},
   "outputs": [],
   "source": [
    "def surface_fitting(x, y, z):\n",
    "    X = x.to_numpy().flatten()\n",
    "    Y = y.to_numpy().flatten()\n",
    "    Z = z.to_numpy().flatten()\n",
    "\n",
    "    A = np.array([X**3, Y**3, X**2, Y**2, X, Y, X*0+1]).T\n",
    "    #print(A.shape)\n",
    "\n",
    "    coeff, r, rank, s = np.linalg.lstsq(A, Z, rcond=None)\n",
    "\n",
    "    return coeff"
   ]
  },
  {
   "cell_type": "code",
   "execution_count": null,
   "metadata": {},
   "outputs": [],
   "source": [
    "c = np.zeros([2, 7])\n",
    "c[0, :] = surface_fitting(df['theta_x'], df['theta_y'], df['qpd_x'])\n",
    "c[1, :] = surface_fitting(df['theta_x'], df['theta_y'], df['qpd_y'])\n",
    "print(c)"
   ]
  },
  {
   "cell_type": "markdown",
   "execution_count": null,
   "metadata": {},
   "outputs": [],
   "source": [
    "### Plot the fitted surfaces"
   ]
  },
  {
   "cell_type": "code",
   "execution_count": null,
   "metadata": {},
   "outputs": [],
   "source": [
    "def poly2Dreco(X, Y, c):\n",
    "    return (c[0]*X**3 + c[1]*Y**3 + c[2]*X**2 + c[3]*Y**2 + c[4]*X + c[5]*Y + c[6])\n",
    "\n",
    "def plot_fitted_surface(x, y, z, c, opts):\n",
    "    \n",
    "    grid_x, grid_y = np.mgrid[-0.5:0.5:100j, -0.4:0.9:100j]\n",
    "\n",
    "    zfit = poly2Dreco(grid_x, grid_y, c)\n",
    "\n",
    "    fig = go.Figure()\n",
    "\n",
    "    fig.add_trace(go.Scatter3d(x=x, y=y, z=z, mode='markers'))\n",
    "\n",
    "\n",
    "    fig.add_trace(go.Surface(z=zfit, x=grid_x, y=grid_y))\n",
    "                    \n",
    "    fig.update_layout(scene = plot_opts)\n",
    "    fig.show()"
   ]
  },
  {
   "cell_type": "markdown",
   "execution_count": null,
   "metadata": {},
   "outputs": [],
   "source": [
    "Plot variation of QPD x-position with $\\theta_x$ and $\\theta_y$"
   ]
  },
  {
   "cell_type": "code",
   "execution_count": null,
   "metadata": {},
   "outputs": [],
   "source": [
    "plot_opts = dict(\n",
    "            xaxis_title='x-tilt angle (theta_x)',\n",
    "            yaxis_title='y-tilt angle (theta_y)',\n",
    "            zaxis_title='QPD x-position (qpd_x)')\n",
    "plot_fitted_surface(df['theta_x'], df['theta_y'], df['qpd_x'], c[0, :], plot_opts)"
   ]
  },
  {
   "cell_type": "markdown",
   "execution_count": null,
   "metadata": {},
   "outputs": [],
   "source": [
    "Plot variation of QPD x-position with $\\theta_x$ and $\\theta_y$"
   ]
  },
  {
   "cell_type": "code",
   "execution_count": null,
   "metadata": {},
   "outputs": [],
   "source": [
    "plot_opts = dict(\n",
    "            xaxis_title='x-tilt angle (theta_x)',\n",
    "            yaxis_title='y-tilt angle (theta_y)',\n",
    "            zaxis_title='QPD y-position (qpd_y)')\n",
    "plot_fitted_surface(df['theta_x'], df['theta_y'], df['qpd_y'], c[1, :], plot_opts)"
   ]
  },
  {
   "cell_type": "markdown",
   "execution_count": null,
   "metadata": {},
   "outputs": [],
   "source": [
    "\n",
    "## Calibration Function"
   ]
  },
  {
   "cell_type": "markdown",
   "execution_count": null,
   "metadata": {},
   "outputs": [],
   "source": [
    "Calculate $\\theta_x$ and $\\theta_y$ from $q_x$ an $q_y$ "
   ]
  },
  {
   "cell_type": "code",
   "execution_count": null,
   "metadata": {},
   "outputs": [],
   "source": [
    "def my_function(z, *data):\n",
    "    '''\n",
    "    z: contains theta values (to optimise)\n",
    "    c: contains the (fixed) fitting coefficients describing the surfaces.\n",
    "        c[0, :] contains the values for the function qpd_x(theta_x, theta_y)\n",
    "        c[1, :] contains the values for the function qpd_y(theta_x, theta_y)\n",
    "    q: contains the input qpd positions for the current iteration of the function\n",
    "    '''\n",
    "    c, q = data # tuple unpacking\n",
    "    theta_x = z[0]\n",
    "    theta_y = z[1]\n",
    "\n",
    "    F = np.zeros_like(z)\n",
    "    for i in range(0, 2):\n",
    "        F[0] = c[i, 0]*theta_x**3 + c[i, 1]*theta_y**3 + c[i, 2]*theta_x**2 + c[i, 3]*theta_y**2 + c[i, 4]*theta_x + c[i, 5]*theta_y + c[i, 6] - q[i]\n",
    "\n",
    "    return F"
   ]
  },
  {
   "cell_type": "markdown",
   "execution_count": null,
   "metadata": {},
   "outputs": [],
   "source": [
    "User enters QPD position for calculation:"
   ]
  },
  {
   "cell_type": "code",
   "execution_count": null,
   "metadata": {},
   "outputs": [],
   "source": [
    "qpd_pos = np.array([0.1, 0.01])\n",
    "print('input qpd position: ' + str(qpd_pos))"
   ]
  },
  {
   "cell_type": "markdown",
   "execution_count": null,
   "metadata": {},
   "outputs": [],
   "source": [
    "Use fsolve to calculate angles $\\theta_x$ and $\\theta_y$ "
   ]
  },
  {
   "cell_type": "code",
   "execution_count": null,
   "metadata": {},
   "outputs": [],
   "source": [
    "theta_guess = np.array([0, 0])\n",
    "data = (c, qpd_pos)\n",
    "thetas = fsolve(my_function, theta_guess, args=data)\n",
    "print('calculated angles are ' + str(thetas) + ' degrees')\n",
    "\n",
    "x_qpd_chk = poly2Dreco(thetas[0], thetas[1], c[0, ])\n",
    "y_qpd_chk = poly2Dreco(thetas[0], thetas[1], c[1, ])\n",
    "\n",
    "print('verification qpd position: ' + str([x_qpd_chk, y_qpd_chk]))"
   ]
  },
  {
   "cell_type": "markdown",
   "execution_count": null,
   "metadata": {},
   "outputs": [],
   "source": [
    "# Numerical Verification"
   ]
  },
  {
   "cell_type": "code",
   "execution_count": null,
   "metadata": {},
   "outputs": [],
   "source": [
    "def plot_intersection(is_intersection, x_vec, y_vec, title_str):\n",
    "    fig = go.Figure(data=go.Heatmap(\n",
    "                    z=1*is_intersection, # convert bool --> int for plotting\n",
    "                    x=x_vec,\n",
    "                    y=y_vec))\n",
    "    fig.update_layout(\n",
    "                title=title_str,\n",
    "                xaxis_title='x-tilt angle ($\\\\theta_x$)',\n",
    "                yaxis_title='y-tilt angle ($\\\\theta_y$)',\n",
    "                yaxis = dict(\n",
    "                    scaleanchor = \"x\",\n",
    "                    scaleratio = 1,)\n",
    "                )\n",
    "    fig.show()"
   ]
  },
  {
   "cell_type": "code",
   "execution_count": null,
   "metadata": {},
   "outputs": [],
   "source": [
    "def calc_plane_surface_intersection(c, qpd_pos):\n",
    "    x_vec = np.arange(-0.5, 0.5, 0.01)\n",
    "    y_vec = np.arange(-0.4, 0.9, 0.01)\n",
    "    grid_x, grid_y = np.meshgrid(x_vec, y_vec)\n",
    "\n",
    "    for i in range(0, 2):\n",
    "        z_qpd = poly2Dreco(grid_x, grid_y, c[i, ]) - qpd_pos[i] # z_qpd_x == 0 where qpd_x == qpd_pos[0]\n",
    "        is_intersection = np.abs(z_qpd - 0) < 0.01\n",
    "\n",
    "        if i == 0:\n",
    "            title_str = 'QPD x-position intersection'\n",
    "        elif i == 1:\n",
    "            title_str = 'QPD y-position intersection'\n",
    "        plot_intersection(is_intersection, x_vec, y_vec, title_str)"
   ]
  },
  {
   "cell_type": "code",
   "execution_count": null,
   "metadata": {},
   "outputs": [],
   "source": [
    "calc_plane_surface_intersection(c, qpd_pos)"
   ]
  },
  {
   "cell_type": "code",
   "execution_count": null,
   "metadata": {},
   "outputs": [],
   "source": []
  }
 ],
 "metadata": {
  "kernelspec": {
   "display_name": "Python 3",
   "language": "python",
   "name": "python3"
  },
  "language_info": {
   "codemirror_mode": {
    "name": "ipython",
    "version": 3
   },
   "file_extension": ".py",
   "mimetype": "text/x-python",
   "name": "python",
   "nbconvert_exporter": "python",
   "pygments_lexer": "ipython3",
   "version": "3.6.7-final"
  }
 },
 "nbformat": 4,
 "nbformat_minor": 2
}