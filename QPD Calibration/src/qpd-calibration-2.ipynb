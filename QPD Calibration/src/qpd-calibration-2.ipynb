{
 "cells": [
  {
   "cell_type": "code",
   "execution_count": null,
   "metadata": {},
   "outputs": [],
   "source": [
    "import pandas as pd\n",
    "import numpy as np\n",
    "from scipy import interpolate\n",
    "import plotly.graph_objects as go"
   ]
  },
  {
   "cell_type": "markdown",
   "metadata": {},
   "source": [
    "## Loading Data"
   ]
  },
  {
   "cell_type": "code",
   "execution_count": null,
   "metadata": {},
   "outputs": [],
   "source": [
    "filename = '../data/2020-03-10_QPD-Tilt-Calibration_Test1.csv'\n",
    "col_names = ['theta_x', 'theta_y', 'qpd_x', 'qpd_y', 'qpd_sum']\n",
    "df = pd.read_csv(filename, names=col_names)"
   ]
  },
  {
   "cell_type": "markdown",
   "metadata": {},
   "source": [
    "### Check Data Validity"
   ]
  },
  {
   "cell_type": "code",
   "execution_count": null,
   "metadata": {},
   "outputs": [],
   "source": [
    "df.head()"
   ]
  },
  {
   "cell_type": "markdown",
   "metadata": {},
   "source": [
    "## Interpolate calibration data onto regular grid\n",
    "(Not actually needed)"
   ]
  },
  {
   "cell_type": "code",
   "execution_count": null,
   "metadata": {},
   "outputs": [],
   "source": [
    "x = df['theta_x']\n",
    "y = df['theta_y']\n",
    "z = df['qpd_x']\n",
    "\n",
    "points = np.array([df['theta_x'], df['theta_y']]).transpose()\n",
    "#print(points.shape)\n",
    "\n",
    "values = df['qpd_x']\n",
    "#print(values.shape)\n",
    "\n",
    "grid_x, grid_y = np.mgrid[-0.5:0.5:100j, -0.4:0.9:100j]\n",
    "#print(grid_x.shape)\n",
    "\n",
    "znew = interpolate.griddata(points, values, (grid_x, grid_y), method='linear')\n",
    "#print(znew.shape)\n",
    "\n",
    "fig = go.Figure()\n",
    "\n",
    "fig.add_trace(go.Scatter3d(x=x, y=y, z=z, mode='markers'))\n",
    "\n",
    "\n",
    "fig.add_trace(go.Surface(z=znew, x=grid_x, y=grid_y))\n",
    "fig.update_layout(title='Mt Bruno Elevation', autosize=False,\n",
    "                  width=500, height=500,\n",
    "                  margin=dict(l=65, r=50, b=65, t=90))\n",
    "fig.show()"
   ]
  },
  {
   "cell_type": "markdown",
   "metadata": {},
   "source": [
    "## Surface Fitting\n",
    "Fit 2D Functions of form $q_x=f(\\theta_x, \\theta_y)$ and $q_y=f(\\theta_x, \\theta_y)$\n",
    "\n",
    "e.g. using 3rd order polynomials:\n",
    "\n",
    "$q_x = a_1.\\theta_x^3 + a_2.\\theta_y^3 + a_3.\\theta_x^2 + a_4.\\theta_y^2 + a_5.\\theta_x + a_6.\\theta_y + a_7$\n",
    "\n",
    "$q_y = b_1.\\theta_x^3 + b_2.\\theta_y^3 + b_3.\\theta_x^2 + b_4.\\theta_y^2 + b_5.\\theta_x + b_6.\\theta_y + b_7$"
   ]
  },
  {
   "cell_type": "code",
   "execution_count": null,
   "metadata": {},
   "outputs": [],
   "source": [
    "X = x.to_numpy()\n",
    "Y = y.to_numpy()\n",
    "Z = z.to_numpy()\n",
    "\n",
    "A = np.array([X**3, Y**3, X**2, Y**2, X, Y, X*0+1]).T\n",
    "#print(A.shape)\n",
    "\n",
    "coeff, r, rank, s = np.linalg.lstsq(A, B, rcond=None)\n",
    "\n",
    "print(coeff)"
   ]
  },
  {
   "cell_type": "code",
   "execution_count": null,
   "metadata": {},
   "outputs": [],
   "source": [
    "def poly2Dreco(X, Y, c):\n",
    "    return (c[0]*X**3 + c[1]*Y**3 + c[2]*X**2 + c[3]*Y**2 + c[4]*X + c[5]*Y + c[6])\n",
    "\n",
    "zfit = poly2Dreco(grid_x, grid_y, coeff)\n",
    "\n",
    "fig = go.Figure()\n",
    "\n",
    "fig.add_trace(go.Scatter3d(x=x, y=y, z=z, mode='markers'))\n",
    "\n",
    "\n",
    "fig.add_trace(go.Surface(z=zfit, x=grid_x, y=grid_y))\n",
    "                  \n",
    "fig.update_layout(scene = dict(\n",
    "                    xaxis_title='X AXIS TITLE',\n",
    "                    yaxis_title='Y AXIS TITLE',\n",
    "                    zaxis_title='Z AXIS TITLE'))\n",
    "fig.show()"
   ]
  },
  {
   "cell_type": "markdown",
   "metadata": {},
   "source": [
    "\n",
    "## Calibration Function"
   ]
  },
  {
   "cell_type": "markdown",
   "metadata": {},
   "source": [
    "### Populate Matrix Equation\n",
    "\n",
    "\n",
    "$\\begin{bmatrix}\n",
    "a_{1} & a_{2} & a_{3} & a_{4} & a_{5} & a_{6} \\\\ \n",
    "b_{1} & b_{2} & b_{3} & b_{4} & b_{5} & b_{6}  \n",
    "\\end{bmatrix}\n",
    "\\begin{bmatrix}\n",
    "\\theta_x^3 \\\\\n",
    "\\theta_y^3 \\\\  \n",
    "\\theta_x^2 \\\\\n",
    "\\theta_y^2 \\\\  \n",
    "\\theta_x \\\\\n",
    "\\theta_y\n",
    "\\end{bmatrix}\n",
    "=\n",
    "\\begin{bmatrix}\n",
    "q_x - a_7\\\\\n",
    "q_y - b_7\n",
    "\\end{bmatrix}\n",
    "$\n",
    "\n",
    "This is a matrix equation of form $Ax=b$\n",
    "\n",
    "Populate the matrix $A$ in equation equation $Ax=b$ with the polynomial coefficients"
   ]
  },
  {
   "cell_type": "markdown",
   "metadata": {},
   "source": [
    "ISSUE - WANT TO SOLVE FOR THETA_X AND THETA_Y NOT ALL 6"
   ]
  },
  {
   "cell_type": "markdown",
   "metadata": {},
   "source": [
    "### Solve Matrix Equation"
   ]
  },
  {
   "cell_type": "code",
   "execution_count": null,
   "metadata": {},
   "outputs": [],
   "source": []
  }
 ],
 "metadata": {
  "kernelspec": {
   "display_name": "Python 3",
   "language": "python",
   "name": "python3"
  },
  "language_info": {
   "codemirror_mode": {
    "name": "ipython",
    "version": 3
   },
   "file_extension": ".py",
   "mimetype": "text/x-python",
   "name": "python",
   "nbconvert_exporter": "python",
   "pygments_lexer": "ipython3",
   "version": "3.6.7"
  }
 },
 "nbformat": 4,
 "nbformat_minor": 2
}
