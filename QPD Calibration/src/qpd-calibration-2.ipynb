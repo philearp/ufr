{
 "cells": [
  {
   "cell_type": "code",
   "execution_count": null,
   "metadata": {},
   "outputs": [],
   "source": [
    "import pandas as pd\n",
    "import numpy as np\n",
    "from scipy import interpolate\n",
    "import plotly.graph_objects as go"
   ]
  },
  {
   "cell_type": "markdown",
   "execution_count": null,
   "metadata": {},
   "outputs": [],
   "source": [
    "## Loading Data"
   ]
  },
  {
   "cell_type": "code",
   "execution_count": null,
   "metadata": {},
   "outputs": [],
   "source": [
    "filename = '../data/2020-03-10_QPD-Tilt-Calibration_Test1.csv'\n",
    "col_names = ['theta_x', 'theta_y', 'qpd_x', 'qpd_y', 'qpd_sum']\n",
    "df = pd.read_csv(filename, names=col_names)"
   ]
  },
  {
   "cell_type": "markdown",
   "execution_count": null,
   "metadata": {},
   "outputs": [],
   "source": [
    "### Check Data Validity"
   ]
  },
  {
   "cell_type": "code",
   "execution_count": null,
   "metadata": {},
   "outputs": [],
   "source": [
    "df.head()"
   ]
  },
  {
   "cell_type": "code",
   "execution_count": null,
   "metadata": {},
   "outputs": [],
   "source": [
    "theta_x = df['theta_x']\n",
    "theta_y = df['theta_y']\n",
    "theta_z = df['qpd_x']\n",
    "\n",
    "points = np.array([df['theta_x'], df['theta_y']]).transpose()\n",
    "#print(points.shape)\n",
    "\n",
    "values = df['qpd_x']\n",
    "#print(values.shape)\n",
    "\n",
    "grid_x, grid_y = np.mgrid[-0.5:0.5:100j, -0.4:0.9:100j]\n",
    "#print(grid_x.shape)\n",
    "\n",
    "znew = interpolate.griddata(points, values, (grid_x, grid_y), method='linear')\n",
    "#print(znew.shape)\n",
    "\n",
    "fig = go.Figure()\n",
    "\n",
    "fig.add_trace(go.Scatter3d(x=x, y=y, z=z, mode='markers'))\n",
    "\n",
    "\n",
    "fig.add_trace(go.Surface(z=znew, x=grid_x, y=grid_y))\n",
    "fig.update_layout(title='Mt Bruno Elevation', autosize=False,\n",
    "                  width=500, height=500,\n",
    "                  margin=dict(l=65, r=50, b=65, t=90))\n",
    "fig.show()"
   ]
  },
  {
   "cell_type": "markdown",
   "execution_count": null,
   "metadata": {},
   "outputs": [],
   "source": [
    "## Surface Fitting\n",
    "Fit 2D Functions of form $q_x=f(\\theta_x, \\theta_y)$ and $q_y=f(\\theta_x, \\theta_y)$\n",
    "\n",
    "e.g. using 3rd order polynomials:\n",
    "\n",
    "$q_x = a_1.\\theta_x^3 + a_2.\\theta_y^3 + a_3.\\theta_x^2 + a_4.\\theta_y^2 + a_5.\\theta_x + a_6.\\theta_y + a_7$\n",
    "\n",
    "$q_y = b_1.\\theta_x^3 + b_2.\\theta_y^3 + b_3.\\theta_x^2 + b_4.\\theta_y^2 + b_5.\\theta_x + b_6.\\theta_y + b_7$"
   ]
  },
  {
   "cell_type": "code",
   "execution_count": null,
   "metadata": {},
   "outputs": [],
   "source": [
    "def surface_fitting(x, y, z):\n",
    "    X = x.to_numpy().flatten()\n",
    "    Y = y.to_numpy().flatten()\n",
    "    Z = z.to_numpy().flatten()\n",
    "\n",
    "    A = np.array([X**3, Y**3, X**2, Y**2, X, Y, X*0+1]).T\n",
    "    #print(A.shape)\n",
    "\n",
    "    coeff, r, rank, s = np.linalg.lstsq(A, Z, rcond=None)\n",
    "\n",
    "    return coeff"
   ]
  },
  {
   "cell_type": "code",
   "execution_count": null,
   "metadata": {},
   "outputs": [],
   "source": [
    "c = surface_fitting(df['theta_x'], df['theta_y'], df['qpd_x'])\n",
    "print(c)"
   ]
  },
  {
   "cell_type": "code",
   "execution_count": null,
   "metadata": {},
   "outputs": [],
   "source": [
    "def poly2Dreco(X, Y, c):\n",
    "    return (c[0]*X**3 + c[1]*Y**3 + c[2]*X**2 + c[3]*Y**2 + c[4]*X + c[5]*Y + c[6])\n",
    "\n",
    "def plot_fitted_surface(x, y, z, c):\n",
    "    grid_x, grid_y = np.mgrid[-0.5:0.5:100j, -0.4:0.9:100j]\n",
    "\n",
    "    zfit = poly2Dreco(grid_x, grid_y, c)\n",
    "\n",
    "    fig = go.Figure()\n",
    "\n",
    "    fig.add_trace(go.Scatter3d(x=x, y=y, z=z, mode='markers'))\n",
    "\n",
    "\n",
    "    fig.add_trace(go.Surface(z=zfit, x=grid_x, y=grid_y))\n",
    "                    \n",
    "    fig.update_layout(scene = dict(\n",
    "                        xaxis_title='X AXIS TITLE',\n",
    "                        yaxis_title='Y AXIS TITLE',\n",
    "                        zaxis_title='Z AXIS TITLE'))\n",
    "    fig.show()"
   ]
  },
  {
   "cell_type": "code",
   "execution_count": null,
   "metadata": {},
   "outputs": [],
   "source": [
    "plot_fitted_surface(df['theta_x'], df['theta_y'], df['qpd_x'], c)"
   ]
  },
  {
   "cell_type": "markdown",
   "execution_count": null,
   "metadata": {},
   "outputs": [],
   "source": [
    "\n",
    "## Calibration Function"
   ]
  },
  {
   "cell_type": "markdown",
   "execution_count": null,
   "metadata": {},
   "outputs": [],
   "source": [
    "Create function that calculates $q_x$ an $q_y$ from $\\theta_x$ and $\\theta_y$"
   ]
  },
  {
   "cell_type": "code",
   "execution_count": null,
   "metadata": {},
   "outputs": [],
   "source": [
    "def my_function(z, c):\n",
    "    theta_x = z[0]\n",
    "    theta_y = z[1]\n",
    "\n",
    "    F = np.zeros_like(z)\n",
    "    for i in range(0, 1):\n",
    "        F[0] = c[i, 0]*theta_x**3 + c[i, ]*theta_y**3 + c[i, 2]*theta_x**2 + c[i, 3]*theta_y**2 + c[i, 4]*theta_x + c[i, 5]*theta_y + c[i, 6]\n"
   ]
  },
  {
   "cell_type": "markdown",
   "execution_count": null,
   "metadata": {},
   "outputs": [],
   "source": [
    "ISSUE - WANT TO SOLVE FOR THETA_X AND THETA_Y NOT ALL 6"
   ]
  },
  {
   "cell_type": "markdown",
   "execution_count": null,
   "metadata": {},
   "outputs": [],
   "source": [
    "### Solve Matrix Equation"
   ]
  },
  {
   "cell_type": "code",
   "execution_count": null,
   "metadata": {},
   "outputs": [],
   "source": []
  }
 ],
 "metadata": {
  "kernelspec": {
   "display_name": "Python 3",
   "language": "python",
   "name": "python3"
  },
  "language_info": {
   "codemirror_mode": {
    "name": "ipython",
    "version": 3
   },
   "file_extension": ".py",
   "mimetype": "text/x-python",
   "name": "python",
   "nbconvert_exporter": "python",
   "pygments_lexer": "ipython3",
   "version": "3.6.7-final"
  }
 },
 "nbformat": 4,
 "nbformat_minor": 2
}