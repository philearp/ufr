{
 "cells": [
  {
   "cell_type": "code",
   "execution_count": null,
   "metadata": {},
   "outputs": [],
   "source": [
    "import pandas as pd\n",
    "import numpy as np\n",
    "from scipy import interpolate\n",
    "from scipy.optimize import fsolve\n",
    "import plotly.graph_objects as go\n",
    "import plotly.express as px"
   ]
  },
  {
   "cell_type": "markdown",
   "execution_count": null,
   "metadata": {},
   "outputs": [],
   "source": [
    "## Loading Data"
   ]
  },
  {
   "cell_type": "code",
   "execution_count": null,
   "metadata": {},
   "outputs": [],
   "source": [
    "def load_calibration_data(filename):\n",
    "    col_names = ['theta_x', 'theta_y', 'qpd_x', 'qpd_y', 'qpd_sum']\n",
    "    df = pd.read_csv(filename, names=col_names)\n",
    "    return df\n",
    "\n",
    "filename = '../data/2020-03-10_QPD-Tilt-Calibration_Test1.csv'\n",
    "load_calibration_data(filename)"
   ]
  },
  {
   "cell_type": "markdown",
   "execution_count": null,
   "metadata": {},
   "outputs": [],
   "source": [
    "### Check Data Validity"
   ]
  },
  {
   "cell_type": "code",
   "execution_count": null,
   "metadata": {},
   "outputs": [],
   "source": [
    "df.head()"
   ]
  },
  {
   "cell_type": "markdown",
   "execution_count": null,
   "metadata": {},
   "outputs": [],
   "source": [
    "## Surface Fitting\n",
    "Fit 2D Functions of form $q_x=f(\\theta_x, \\theta_y)$ and $q_y=f(\\theta_x, \\theta_y)$\n",
    "\n",
    "e.g. using 3rd order polynomials:\n",
    "\n",
    "$q_x = a_1.\\theta_x^3 + a_2.\\theta_y^3 + a_3.\\theta_x^2 + a_4.\\theta_y^2 + a_5.\\theta_x + a_6.\\theta_y + a_7$\n",
    "\n",
    "$q_y = b_1.\\theta_x^3 + b_2.\\theta_y^3 + b_3.\\theta_x^2 + b_4.\\theta_y^2 + b_5.\\theta_x + b_6.\\theta_y + b_7$"
   ]
  },
  {
   "cell_type": "code",
   "execution_count": null,
   "metadata": {},
   "outputs": [],
   "source": [
    "def surface_fitting(x, y, z):\n",
    "    X = x.flatten()\n",
    "    Y = y.flatten()\n",
    "    Z = z.flatten()\n",
    "\n",
    "    A = np.array([X**3, Y**3, X**2, Y**2, X, Y, X*0+1]).T\n",
    "    #print(A.shape)\n",
    "\n",
    "    coeff, residuals, rank, s = np.linalg.lstsq(A, Z, rcond=None)\n",
    "    \n",
    "    #print('Fitting coefficients:', coeff)\n",
    "    #print('Residuals:', residuals)\n",
    "    #print('Rank:', rank)\n",
    "    return coeff"
   ]
  },
  {
   "cell_type": "code",
   "execution_count": null,
   "metadata": {},
   "outputs": [],
   "source": [
    "c = np.zeros([2, 7])\n",
    "c[0, :] = surface_fitting(df['theta_x'].to_numpy(), df['theta_y'].to_numpy(), df['qpd_x'].to_numpy())\n",
    "c[1, :] = surface_fitting(df['theta_x'].to_numpy(), df['theta_y'].to_numpy(), df['qpd_y'].to_numpy())\n",
    "print(c)"
   ]
  },
  {
   "cell_type": "markdown",
   "execution_count": null,
   "metadata": {},
   "outputs": [],
   "source": [
    "### Plot the fitted surfaces"
   ]
  },
  {
   "cell_type": "code",
   "execution_count": null,
   "metadata": {},
   "outputs": [],
   "source": [
    "def poly2Dreco(X, Y, c):\n",
    "    return (c[0]*X**3 + c[1]*Y**3 + c[2]*X**2 + c[3]*Y**2 + c[4]*X + c[5]*Y + c[6])\n",
    "\n",
    "def plot_fitted_surface(x_raw, y_raw, z_raw, c, plot_opts):\n",
    "    \n",
    "    grid_x, grid_y = define_grid(x_raw, y_raw)\n",
    "\n",
    "    zfit = poly2Dreco(grid_x, grid_y, c)\n",
    "\n",
    "    fig = go.Figure()\n",
    "\n",
    "    fig.add_trace(go.Scatter3d(x=x_raw, y=y_raw, z=z_raw, mode='markers'))\n",
    "\n",
    "\n",
    "    fig.add_trace(go.Surface(z=zfit, x=grid_x, y=grid_y))\n",
    "                    \n",
    "    fig.update_layout(scene = plot_opts)\n",
    "\n",
    "    fig.update_layout(\n",
    "    autosize=False,\n",
    "    width=800,\n",
    "    height=800)\n",
    "    \n",
    "    fig.show()\n",
    "\n",
    "def define_grid(x_raw, y_raw):\n",
    "\n",
    "    x_min = x_raw.min()\n",
    "    x_max = x_raw.max()\n",
    "    y_min = y_raw.min()\n",
    "    y_max = y_raw.max()\n",
    "\n",
    "    x_step = 100 * 1j\n",
    "    y_step = 100 * 1j\n",
    "\n",
    "    #grid_x, grid_y = np.mgrid[-0.5:0.5:100j, -0.4:0.9:100j]\n",
    "    grid_x, grid_y = np.mgrid[x_min:x_max:x_step, y_min:y_max:y_step]\n",
    "\n",
    "    return grid_x, grid_y"
   ]
  },
  {
   "cell_type": "markdown",
   "execution_count": null,
   "metadata": {},
   "outputs": [],
   "source": [
    "Plot variation of QPD x-position with $\\theta_x$ and $\\theta_y$"
   ]
  },
  {
   "cell_type": "code",
   "execution_count": null,
   "metadata": {},
   "outputs": [],
   "source": [
    "plot_opts = dict(\n",
    "            xaxis_title='theta_x',\n",
    "            yaxis_title='theta_y',\n",
    "            zaxis_title='QPD x')\n",
    "plot_fitted_surface(df['theta_x'], df['theta_y'], df['qpd_x'], c[0, :], plot_opts)"
   ]
  },
  {
   "cell_type": "markdown",
   "execution_count": null,
   "metadata": {},
   "outputs": [],
   "source": [
    "Plot variation of QPD x-position with $\\theta_x$ and $\\theta_y$"
   ]
  },
  {
   "cell_type": "code",
   "execution_count": null,
   "metadata": {},
   "outputs": [],
   "source": [
    "plot_opts = dict(\n",
    "            xaxis_title='theta_x',\n",
    "            yaxis_title='theta_y',\n",
    "            zaxis_title='QPD y')\n",
    "plot_fitted_surface(df['theta_x'], df['theta_y'], df['qpd_y'], c[1, :], plot_opts)"
   ]
  },
  {
   "cell_type": "markdown",
   "execution_count": null,
   "metadata": {},
   "outputs": [],
   "source": [
    "# Calibration Procedure"
   ]
  },
  {
   "cell_type": "markdown",
   "execution_count": null,
   "metadata": {},
   "outputs": [],
   "source": [
    "\n",
    "## Numerical Calculation"
   ]
  },
  {
   "cell_type": "code",
   "execution_count": null,
   "metadata": {},
   "outputs": [],
   "source": [
    "def calc_angles_from_qpd_values(c, qpd_pos, calculation_grid_dimensions):\n",
    "\n",
    "    grid_tx, grid_ty = np.meshgrid(calculation_grid_dimensions['tx_vec'], calculation_grid_dimensions['ty_vec'])\n",
    "\n",
    "    is_common_intersection = calc_common_intersection(grid_tx, grid_ty, c, qpd_pos)\n",
    "    \n",
    "    thetas = calc_angles_from_common_intersection(grid_tx, grid_ty, is_common_intersection)\n",
    "\n",
    "    return thetas\n",
    "\n",
    "def calc_common_intersection(grid_tx, grid_ty, c, qpd_pos):\n",
    "\n",
    "    intersection_array = np.zeros((2,) + grid_tx.shape) # initialise\n",
    "\n",
    "    for i in range(0, 2): # For qpd_x and qpd_y,\n",
    "        # Calculate plane-surface intersection\n",
    "        z_qpd = poly2Dreco(grid_tx, grid_ty, c[i, ]) - qpd_pos[i] # z_qpd_x == 0 where qpd_x == qpd_pos[0]\n",
    "        is_intersection = np.abs(z_qpd - 0) < 0.01\n",
    "\n",
    "        intersection_array[i,] = is_intersection\n",
    "\n",
    "    # Calculate common intersection (i.e. find theta_x and theta_y position)\n",
    "    is_common_intersection = np.all(intersection_array, axis=0)\n",
    "    \n",
    "    return is_common_intersection\n",
    "\n",
    "def calc_angles_from_common_intersection(grid_tx, grid_ty, is_common_intersection):\n",
    "\n",
    "    theta_x = np.mean(grid_tx[is_common_intersection])\n",
    "    theta_y = np.mean(grid_ty[is_common_intersection])\n",
    "\n",
    "    thetas = np.array([theta_x, theta_y])\n",
    "\n",
    "    return thetas"
   ]
  },
  {
   "cell_type": "code",
   "execution_count": null,
   "metadata": {},
   "outputs": [],
   "source": [
    "def verify_qpd_from_angles(thetas, c):\n",
    "\n",
    "    x_qpd_chk = poly2Dreco(thetas[0], thetas[1], c[0, ])\n",
    "    y_qpd_chk = poly2Dreco(thetas[0], thetas[1], c[1, ])\n",
    "\n",
    "    print('verification qpd position: ' + str([x_qpd_chk, y_qpd_chk]))"
   ]
  },
  {
   "cell_type": "code",
   "execution_count": null,
   "metadata": {},
   "outputs": [],
   "source": [
    "qpd_pos = np.array([0, 0.09])\n",
    "\n",
    "calculation_grid_dimensions = dict(tx_vec=np.arange(-0.5, 0.5, 0.01),\n",
    "                                   ty_vec=np.arange(-0.4, 0.9, 0.01))\n",
    "\n",
    "thetas_numerical = calc_angles_from_qpd_values(c, qpd_pos, calculation_grid_dimensions)\n",
    "\n",
    "print('input qpd position: ' + str(qpd_pos))\n",
    "print('calculated angles are ' + str(thetas_numerical) + ' degrees')\n",
    "\n",
    "verify_qpd_from_angles(thetas_numerical, c)"
   ]
  },
  {
   "cell_type": "markdown",
   "execution_count": null,
   "metadata": {},
   "outputs": [],
   "source": [
    "## Produce Calibration File\n",
    "### Iterate through QPD positions"
   ]
  },
  {
   "cell_type": "code",
   "execution_count": null,
   "metadata": {},
   "outputs": [],
   "source": [
    "def iterate_qpd_positions(grid_qx, grid_qy):\n",
    "    tx_array = np.zeros_like(grid_qx)\n",
    "    ty_array = np.zeros_like(grid_qx)\n",
    "    \n",
    "    for i, j in np.ndindex(grid_qx.shape):\n",
    "\n",
    "        qpd_pos = np.array([grid_qx[i, j], grid_qy[i, j]])\n",
    "\n",
    "        t = calc_angles_from_qpd_values(c, qpd_pos, calculation_grid_dimensions)\n",
    "        \n",
    "        tx_array[i, j] = t[0]\n",
    "        ty_array[i, j] = t[1]\n",
    "        \n",
    "    print('done')\n",
    "\n",
    "    return tx_array, ty_array"
   ]
  },
  {
   "cell_type": "code",
   "execution_count": null,
   "metadata": {
    "tags": [
     "outputPrepend",
     "outputPrepend",
     "outputPrepend",
     "outputPrepend",
     "outputPrepend",
     "outputPrepend",
     "outputPrepend",
     "outputPrepend",
     "outputPrepend",
     "outputPrepend",
     "outputPrepend",
     "outputPrepend",
     "outputPrepend",
     "outputPrepend",
     "outputPrepend",
     "outputPrepend",
     "outputPrepend",
     "outputPrepend",
     "outputPrepend",
     "outputPrepend",
     "outputPrepend",
     "outputPrepend",
     "outputPrepend",
     "outputPrepend",
     "outputPrepend",
     "outputPrepend",
     "outputPrepend",
     "outputPrepend",
     "outputPrepend",
     "outputPrepend",
     "outputPrepend",
     "outputPrepend",
     "outputPrepend",
     "outputPrepend",
     "outputPrepend",
     "outputPrepend",
     "outputPrepend",
     "outputPrepend",
     "outputPrepend",
     "outputPrepend",
     "outputPrepend",
     "outputPrepend",
     "outputPrepend",
     "outputPrepend",
     "outputPrepend",
     "outputPrepend",
     "outputPrepend",
     "outputPrepend"
    ]
   },
   "outputs": [],
   "source": [
    "# iterate through QPD positions\n",
    "qx_vec = np.arange(-1, 1, 0.1)\n",
    "qy_vec = np.arange(-1, 1, 0.1)\n",
    "grid_qx, grid_qy = np.meshgrid(qx_vec, qy_vec)\n",
    "\n",
    "tx_array, ty_array = iterate_qpd_positions(grid_qx, grid_qy)"
   ]
  },
  {
   "cell_type": "code",
   "execution_count": null,
   "metadata": {},
   "outputs": [],
   "source": [
    "fig = px.scatter(x=grid_qx.flatten(), y=grid_qy.flatten(), color=tx_array.flatten())\n",
    "fig.update_layout(xaxis_title='QPD x',\n",
    "                  yaxis_title='QPD y')\n",
    "fig.show()"
   ]
  },
  {
   "cell_type": "markdown",
   "metadata": {},
   "source": [
    "Fit surface to calibration data:\n"
   ],
   "execution_count": null,
   "outputs": []
  },
  {
   "cell_type": "code",
   "execution_count": null,
   "metadata": {},
   "outputs": [],
   "source": [
    "d = np.zeros([2, 7])\n",
    "d[0, :] = surface_fitting(grid_qx.flatten(), grid_qy.flatten(), tx_array.flatten())\n",
    "d[1, :] = surface_fitting(grid_qx.flatten(), grid_qy.flatten(), ty_array.flatten())\n",
    "print(d)"
   ]
  },
  {
   "cell_type": "markdown",
   "metadata": {},
   "source": [
    "Plot variation of $\\theta_x$ with $q_x$ and $q_y$"
   ],
   "execution_count": null,
   "outputs": []
  },
  {
   "cell_type": "code",
   "execution_count": null,
   "metadata": {},
   "outputs": [],
   "source": [
    "plot_opts = dict(\n",
    "            xaxis_title='QPD x',\n",
    "            yaxis_title='QPD y',\n",
    "            zaxis_title='theta_x')\n",
    "plot_fitted_surface(grid_qx.flatten(), grid_qy.flatten(), tx_array.flatten(), d[0, :], plot_opts)"
   ]
  },
  {
   "cell_type": "markdown",
   "metadata": {},
   "source": [
    "Plot variation of $\\theta_y$ with $q_x$ and $q_y$"
   ],
   "execution_count": null,
   "outputs": []
  },
  {
   "cell_type": "code",
   "execution_count": null,
   "metadata": {},
   "outputs": [],
   "source": [
    "plot_opts = dict(\n",
    "            xaxis_title='QPD x',\n",
    "            yaxis_title='QPD y',\n",
    "            zaxis_title='theta_y')\n",
    "plot_fitted_surface(grid_qx.flatten(), grid_qy.flatten(), ty_array.flatten(), d[1, :], plot_opts)"
   ]
  }
 ],
 "metadata": {
  "kernelspec": {
   "display_name": "Python 3",
   "language": "python",
   "name": "python3"
  },
  "language_info": {
   "codemirror_mode": {
    "name": "ipython",
    "version": 3
   },
   "file_extension": ".py",
   "mimetype": "text/x-python",
   "name": "python",
   "nbconvert_exporter": "python",
   "pygments_lexer": "ipython3",
   "version": "3.7.6-final"
  }
 },
 "nbformat": 4,
 "nbformat_minor": 2
}