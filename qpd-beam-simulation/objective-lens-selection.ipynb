{
 "cells": [
  {
   "cell_type": "code",
   "execution_count": null,
   "metadata": {},
   "outputs": [],
   "source": [
    "import math\n",
    "import numpy as np\n",
    "import matplotlib.pyplot as plt\n",
    "import pandas as pd\n",
    "\n",
    "def is_lens_valid(d, f, usable_diameter_fraction):\n",
    "    max_beam_angle = cantilever_angle * 4\n",
    "    r_beam = f * math.tan(math.radians(max_beam_angle))\n",
    "    print(r_beam)\n",
    "    return r_beam < (d * usable_diameter_fraction) / 2\n",
    "    \n",
    "\n",
    "#tan(theta) = opp / adj --> opp = adj * tan(theta)\n",
    "\n",
    "d = 50.8 # [mm]\n",
    "f = 75.0 # [mm]\n",
    "cantilever_angle = 4 # [degrees]\n",
    "\n",
    "#is_lens_valid(d, f)\n",
    "\n",
    "\n",
    "d = np.arange(0, 100, 1)\n",
    "f = np.arange(0, 250, 1)\n",
    "dg, fg = np.meshgrid(d, f)\n",
    "\n",
    "usable_diameter_fraction = 1.0\n",
    "a = is_lens_valid(dg, fg, usable_diameter_fraction)\n",
    "\n",
    "usable_diameter_fraction = 0.9\n",
    "b = is_lens_valid(dg, fg, usable_diameter_fraction)\n",
    "\n",
    "c = np.ones_like(dg) * a + np.ones_like(dg) * b"
   ]
  },
  {
   "cell_type": "code",
   "execution_count": null,
   "metadata": {},
   "outputs": [],
   "source": [
    "tl = pd.read_csv('thorlabs-lenses.csv', header=0)\n",
    "print(tl.d)"
   ]
  },
  {
   "cell_type": "code",
   "execution_count": null,
   "metadata": {},
   "outputs": [],
   "source": [
    "#plt.scatter(dg, fg, c=a)\n",
    "plt.contourf(dg, fg, c)\n",
    "plt.set_cmap('RdYlGn')\n",
    "\n",
    "plt.plot(50.8, 75.0, marker='o', color='b', linestyle='none', label='Selected Lens', markersize=15)\n",
    "plt.plot(tl.d, tl.f, marker='o', color='c', markeredgecolor='k', linestyle='none', label='Thorlabs Lenses', markersize=10)\n",
    "\n",
    "\n",
    "plt.xlabel('lens diameter [mm]')\n",
    "plt.ylabel('focal length [mm]')\n",
    "\n",
    "plt.legend()\n",
    "\n",
    "plt.xlim([20, 60])\n",
    "plt.ylim([25, 100])\n",
    "plt.text(30, 90, 'Invalid Lens', backgroundcolor='w')\n",
    "plt.text(45, 50, 'Valid Lens', backgroundcolor='w')\n",
    "plt.text(45, 65, '$f=75.0$mm, $d=2\\'\\'$', bbox=dict(facecolor='w', edgecolor='b'))\n",
    "\n",
    "plt.savefig(os.path.join('figures', 'objective-lens-selection.svg'), format='svg')"
   ]
  }
 ],
 "metadata": {
  "language_info": {
   "codemirror_mode": {
    "name": "ipython",
    "version": 3
   },
   "file_extension": ".py",
   "mimetype": "text/x-python",
   "name": "python",
   "nbconvert_exporter": "python",
   "pygments_lexer": "ipython3",
   "version": "3.7.6-final"
  },
  "orig_nbformat": 2,
  "kernelspec": {
   "name": "python37664bitbaseconda3b6a7f80ddee428db112e448c9aa3cb8",
   "display_name": "Python 3.7.6 64-bit ('base': conda)"
  }
 },
 "nbformat": 4,
 "nbformat_minor": 2
}